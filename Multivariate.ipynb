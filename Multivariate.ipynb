{
 "cells": [
  {
   "cell_type": "markdown",
   "id": "2f0ed5cb-3071-4cf6-bdf6-ca834a012f8a",
   "metadata": {},
   "source": [
    "# Multivariate polynomial systems\n",
    "\n",
    "## 1.First manipulations and experiments\n",
    "\n",
    "In order to manipulate multivariate polynomials over a finite field, we can start by creating the associated polynomial ring. When the number of variables is small, we can directly specify their names. "
   ]
  },
  {
   "cell_type": "code",
   "execution_count": 1,
   "id": "47dd6818-bf4c-4868-8e93-ac87230ff42b",
   "metadata": {},
   "outputs": [],
   "source": [
    "R1.<x,y,z> = PolynomialRing(GF(7))\n",
    "print(R1)\n",
    "print((3*x+5*y)*(3*z+2*x+y)+(4*y+3*z)*(x+y+2*z))\n",
    "print(5*x+2*x)"
   ]
  },
  {
   "cell_type": "markdown",
   "id": "07bb8f87-376a-4981-b0f5-c83505cbd0ea",
   "metadata": {},
   "source": [
    "For larger numbers of variables, we specify a generic name, used only for printing outputs. The i-th variable of the ring `R` is called by the command `R.i` or `R.gen(i)`."
   ]
  },
  {
   "cell_type": "code",
   "execution_count": 2,
   "id": "0fbebfd9-804f-43d4-8eed-ea6ef115297b",
   "metadata": {},
   "outputs": [],
   "source": [
    "R=PolynomialRing(GF(7),30,'x')\n",
    "print(R)\n",
    "print(R.10*R.15+6*R.gen(28)*R.gen(7))\n",
    "print(R(10)) #caution\n",
    "print(x13) #error"
   ]
  },
  {
   "cell_type": "markdown",
   "id": "4b8b70fd-447b-4cd8-aa70-323c3c54e271",
   "metadata": {},
   "source": [
    "\n",
    "**Exercise:** \n",
    "- Generate a random system (list `L`) of 5 quadratic polynomials in 5 variables with coefficients in the finite field $\\mathbb F_7$. Try to compute its solutions with the command `ideal(L).variety()`.\n",
    "- Experiment with other systems. What happens when there are more variables than equations?\n",
    "- To circumvent this difficulty, append to the list `L`the \"field equations\" $x_i^p - x_i$. Check the results on various systems and various parameters.   "
   ]
  },
  {
   "cell_type": "code",
   "execution_count": null,
   "id": "9f71f86c-d234-4c51-ab0d-7b1c192ff3be",
   "metadata": {},
   "outputs": [],
   "source": []
  },
  {
   "cell_type": "code",
   "execution_count": null,
   "id": "973879ec-c145-4677-859c-62c88205afc7",
   "metadata": {},
   "outputs": [],
   "source": []
  },
  {
   "cell_type": "markdown",
   "id": "a758d064-abe2-410d-8268-51f1c2b3cd18",
   "metadata": {},
   "source": [
    "\n",
    "**Exercise (Boolean systems):** If $x\\in \\mathbb F_2$ then $x^k=x$ for all $k\\geq 1$. This implies that when trying to solve polynomial systems over $\\mathbb F_2$, we can replace every power $x_i^k$ of a variable by just $x_i$. This is implemented in Sagemath with `BooleanPolynomialRing`.\n",
    "- Create a Boolean polynomial ring in $n=12$ variables, and test the product of Boolean polynomials.\n",
    "- Create 100 systems of $m=12$ quadratic Boolean polynomials in 12 variables and solve them (command `ideal(L).variety()`). What is the average number of solutions?\n",
    "- Same question with $m=11$, $m=10$ (underdetermined systems), $m=13$, $m=14$ (overdetermined systems)."
   ]
  },
  {
   "cell_type": "code",
   "execution_count": null,
   "id": "0c12a5c3-bc9c-4151-9d9d-4c2aa2998079",
   "metadata": {},
   "outputs": [],
   "source": []
  },
  {
   "cell_type": "code",
   "execution_count": null,
   "id": "1dc136db-a3f2-4f89-8c85-d21b6dcdf982",
   "metadata": {},
   "outputs": [],
   "source": []
  },
  {
   "cell_type": "markdown",
   "id": "b7ae50ef-25e2-4dcf-b6cb-597597a5ccd7",
   "metadata": {},
   "source": [
    "\n",
    "**Exercise (extremely overdetermined systems):** \n",
    "- Generate a system of 300 quadratic polynomials in 23 variables with coefficients in $\\mathbb F_{97}$, having _at least one_ solution.\n",
    "- Explain why it is possible to find linear combinations of the equations that yield degree 1 polynomials.\n",
    "- Compute such linear polynomials by performing Gaussian elimination, and recover the solution of the system."
   ]
  },
  {
   "cell_type": "code",
   "execution_count": null,
   "id": "6fa6f366-fb2d-4177-aa3c-4af89fcadf03",
   "metadata": {},
   "outputs": [],
   "source": []
  },
  {
   "cell_type": "code",
   "execution_count": null,
   "id": "64abfe90-5ddb-44bc-9c52-3ccb716e0059",
   "metadata": {},
   "outputs": [],
   "source": []
  },
  {
   "cell_type": "code",
   "execution_count": null,
   "id": "aa77ca46-c794-41b2-9940-1f3ee6e92021",
   "metadata": {},
   "outputs": [],
   "source": []
  },
  {
   "cell_type": "markdown",
   "id": "f7740865-e7fb-49a5-b10b-adb1c6f0a82d",
   "metadata": {},
   "source": [
    "\n",
    "## 2. Oil and Vinegar\n",
    "\n",
    "**Preliminary:** \n",
    "- Construct a quadratic polynomial $f$ in $3$ variables $x,y,z$ over a field $K$. What is the output of the command $f(x,2,1)$? And $f(y,z,x)$?\n",
    "- Construct a square matrix $M\\in \\mathcal M_3(K)$ from the list of its coefficients with the command `M = matrix(K,3,3,[.....])` and test the command `M*vector([x,y,z])`.\n",
    "- Unpack the result of the last command using the star operator `*` and feed it to $f$. What is the result?"
   ]
  },
  {
   "cell_type": "code",
   "execution_count": null,
   "id": "34053f2c-3064-4d9e-9b17-327ae411b49d",
   "metadata": {},
   "outputs": [],
   "source": []
  },
  {
   "cell_type": "code",
   "execution_count": null,
   "id": "71bfe2a5-9c1d-4a92-891e-624c045751e0",
   "metadata": {},
   "outputs": [],
   "source": []
  },
  {
   "cell_type": "markdown",
   "id": "39b9e4ee-6ccf-474d-ab5c-c25fd2032a0f",
   "metadata": {},
   "source": [
    "**Exercise:**\n",
    "1. Generate a random (homogeneous) quadratic system $F$ of 20 equations in 40 variables over $\\mathbb F_{2}$, such that there are no monomials of the form $x_ix_j$ with $i \\geq 20$ and $j\\geq 20$."
   ]
  },
  {
   "cell_type": "code",
   "execution_count": null,
   "id": "714a3123-4af9-418f-ace1-544b7e2c9611",
   "metadata": {},
   "outputs": [],
   "source": []
  },
  {
   "cell_type": "markdown",
   "id": "40db5f65-7af8-4578-bc80-92a3b019d4c4",
   "metadata": {},
   "source": [
    "2. Generate a random 40x40 square matrix $S$ with coefficients in $\\mathbb F_2$ and test if it is invertible. If not, start again until finding an invertible one. This is your private key. "
   ]
  },
  {
   "cell_type": "code",
   "execution_count": null,
   "id": "13187cec-209d-4dce-a888-f2819864763f",
   "metadata": {},
   "outputs": [],
   "source": []
  },
  {
   "cell_type": "markdown",
   "id": "0510f94d-a0e7-4d1d-9170-e5131ffec803",
   "metadata": {},
   "source": [
    "3. Compute the system $P=F\\circ S$. This is your public key. What is its size? Is there a way to store it compactly?"
   ]
  },
  {
   "cell_type": "code",
   "execution_count": null,
   "id": "9d7ab0a0-347e-45b4-94f2-3e3e71a07289",
   "metadata": {},
   "outputs": [],
   "source": []
  },
  {
   "cell_type": "markdown",
   "id": "16f6d7e3-4c4b-472d-aeb0-1b80937fac8c",
   "metadata": {},
   "source": [
    "4. Pick a random tuple $y\\in \\mathbb F_2^{20}$ and compute an $x$ such that $P(x)=y$ using your private key. Check your result."
   ]
  },
  {
   "cell_type": "code",
   "execution_count": null,
   "id": "b29932ff-b8fd-4caf-bcac-f11dd61fc34a",
   "metadata": {},
   "outputs": [],
   "source": []
  },
  {
   "cell_type": "markdown",
   "id": "dc0c5f8a-3989-469c-937f-6d3179c8bfae",
   "metadata": {},
   "source": [
    "5. Try to solve directly the system $P(x)=y$."
   ]
  },
  {
   "cell_type": "code",
   "execution_count": null,
   "id": "08767547-53ac-4c89-b099-aad7be29c897",
   "metadata": {},
   "outputs": [],
   "source": []
  },
  {
   "cell_type": "markdown",
   "id": "7c35b092-569a-4d2a-8832-bbc04352c509",
   "metadata": {},
   "source": [
    "6. The trouble is that the system $P(x)=y$ is largely underdetermined and so has a lot of solutions, whereas we only need one. Try to solve the system by guessing the value of 20 variables (hint: the resolution is much faster if you cast the polynomials into a polynomial ring in the remaining 20 variables). "
   ]
  },
  {
   "cell_type": "code",
   "execution_count": null,
   "id": "61e9b0d6-2d74-4a31-b1aa-bde6760cdefd",
   "metadata": {},
   "outputs": [],
   "source": []
  },
  {
   "cell_type": "markdown",
   "id": "c251157f-7a8a-4ae0-9d85-efff19f1230c",
   "metadata": {},
   "source": [
    "7. Overdetermined systems are usually faster to solve than square systems. If we try to guess more than 20 variables, this speeds up the computation but deteriorates the probability of obtaining a solution, so that there is an optimal trade-off to be found.\\\n",
    "   Solve the system $P(x)=y$ by guessing repeatedly 25 variables until a solution is found. Is it faster than guessing 20 variables? Than guessing all 40 variables?"
   ]
  },
  {
   "cell_type": "code",
   "execution_count": null,
   "id": "b198f473-68b0-4bf7-95a9-bbc26ddf8096",
   "metadata": {},
   "outputs": [],
   "source": []
  },
  {
   "cell_type": "code",
   "execution_count": null,
   "id": "9d73016b-080a-4e8c-bc52-a34f49bc9b15",
   "metadata": {},
   "outputs": [],
   "source": []
  },
  {
   "cell_type": "markdown",
   "id": "041e132b-8a85-4a73-8db2-06674c36682f",
   "metadata": {},
   "source": [
    "\n",
    "## 3. Kipnis-Shamir attack on Balanced Oil and Vinegar\n",
    "\n",
    "In the original Oil and Vinegar scheme, there are as many oil variables as vinegar variables (i.e. $n=2m$). Kipnis and Shamir showed that this parameter choice is insecure ; their attack generalizes to $n$ slightly larger than $2m$. In modern implementations, $n \\leq 3m$. We will explain the principle of this attack in the homogeneous case in odd characteristic. "
   ]
  },
  {
   "cell_type": "markdown",
   "id": "538aa87e-3580-4372-b01b-80cc1f8b14c1",
   "metadata": {},
   "source": [
    "\n",
    "##### 1. Quadratic polynomials and symmetric matrices.\n",
    "In what follows we assume that $n=2m$, and that we are working over of field of odd characteristic (e.g. $\\mathbb F_{31}$).\n",
    "- Let $f = \\displaystyle \\sum_{0\\leq i,j<n} a_{ij} x_ix_j$ a homogeneous quadratic polynomial over a field of odd characteristic. Show that there is a (unique) symmetric matrix $A$ such that : $$\\forall X = \\begin{pmatrix} x_0 \\\\ \\vdots \\\\ x_{n-1} \\end{pmatrix},\\ f(x_0,\\dots,x_{n-1}) = X^T A X$$\n",
    "- Write a function that outputs the symmetric matrix corresponding to a homogeneous quadratic polynomial (the relevant command is `f.coefficient(m)`, which returns the coefficient of the monomial $m$ in $f$). \n",
    "- Let $S$ be an invertible $n\\times n$ matrix, and $p=f\\circ S$. What is the symmetric matrix corresponding to $p$?"
   ]
  },
  {
   "cell_type": "code",
   "execution_count": null,
   "id": "1591de9c-363c-4c8e-8663-b87fcf1ee530",
   "metadata": {},
   "outputs": [],
   "source": []
  },
  {
   "cell_type": "markdown",
   "id": "fccb0d66-b701-45d4-b46b-48797bb49486",
   "metadata": {},
   "source": [
    "##### 2. Oil and Vinegar matrices\n",
    "Let $f_0,\\dots,f_{m-1}$ be quadratic homogeneous polynomials such that for all $k$, the polynomial $f_k$ has no term of the form $x_ix_j$ for $i,j \\geq m$. Let $S$ be an invertible $n\\times n$ matrix. \n",
    "\n",
    "We denote by $F$ the central Oil and Vinegar map $(f_0,\\dots,f_{m-1}) : (\\mathbb F_p)^n \\to (\\mathbb F_p)^m$, and by $P = (p_0,\\dots,p_{m-1})$ the public quadratic map $F\\circ S$, i.e. $p_k = f_k\\circ S$ for all $0\\leq k < m$. We also denote by $A_k$ (resp. $B_k$) the symmetric matrix corresponding to $f_k$ (resp. $p_k$). \n",
    "\n",
    "Finally, let $\\mathcal O = S^{-1}(\\{0\\}^m\\times(\\mathbb F_p)^m)$ (the oil subspace) and $\\mathcal V = S^T((\\mathbb F_p)^m\\times \\{0\\}^m)$.\n",
    "\n",
    "- Generate such a system, for $m=20$ and $p=31$.\n",
    "- What is the shape of the matrices $A_1,\\dots,A_m$? \n",
    "- Show that $P$ vanishes on $\\mathcal O$. "
   ]
  },
  {
   "cell_type": "code",
   "execution_count": null,
   "id": "e8b08d04-f69f-4112-90cc-25279fffbbc2",
   "metadata": {},
   "outputs": [],
   "source": []
  },
  {
   "cell_type": "markdown",
   "id": "333bedc1-229b-4faf-bfa9-ae02fecef668",
   "metadata": {},
   "source": [
    "##### 3. The attack\n",
    "The goal of the attack is to recover $\\mathcal O$, which is actually sufficient for computing preimages by $P$, i.e. forging signatures. We keep the above notations.\n",
    "\n",
    "- Let $k\\in \\{0,\\dots,m-1\\}$. Show that *as a linear map*, $B_k$ sends $\\mathcal O$ to $\\mathcal V$, i.e. $B_k \\,o \\in \\mathcal V$ for all $o \\in \\mathcal O$. \\\n",
    "If $B_k$ is nonsingular, deduce that $B_k^{-1} \\mathcal V = \\mathcal O$, i.e. $\\mathcal O = \\{B_k^{-1}v\\ :\\ v \\in \\mathcal V\\}$. Hint: use $\\dim(\\mathcal V) = \\dim (\\mathcal O)$}.\n",
    "- Deduce that $\\mathcal O$ is a common invariant subspace of all the matrices $B_k^{-1}B_l$ for all pairs $0\\leq k,l<m$ such that $B_k$ is nonsingular. \n",
    "\n",
    "For $k,l$ such that $B_k$ is invertible, we set $C_{kl} = B_k^{-1}B_l$, and denote by $g_{kl}$ the endomorphism induced by $C_{kl}$ on $\\mathcal O$. Observing that $C_{kl}$ is similar to $A_k^{-1}A_l$, it is possible to show that the characteristic polynomial of $C_{kl}$ is actually the square of the characteristic polynomial of $g_{kl}$, i.e. $\\chi_{C_{kl}} = (\\chi_{g_{kl}})^2$.\n",
    "\n",
    "- On your example system, test which of the $B_k$ matrices are invertible. Factor the characteristic polynomial (command `factor(M.characteristic_polynomial())`) of some $C_{kl}$ matrices and check that they are indeed squares.\n",
    "- Using the Cayley-Hamilton theorem, show that $\\mathcal O \\subset \\ker(\\chi_{g_{kl}}(C_{kl}))$.\n",
    "- To conclude the attack, choose a suitable pair $(k,l)$, compute the square root $\\chi_{g_{kl}}$ of the characteristic polynomial of $C_{kl}$, then compute the kernel of $\\chi_{g_{kl}}(C_{kl})$ with the command `right_kernel()`. If its dimension is $m$ then it is equal to $\\mathcal O$; otherwise, choose another pair.\\\n",
    "Implement this attack and check that $P$ vanishes indeed on all vectors of a basis of $\\mathcal O$.  \n"
   ]
  },
  {
   "cell_type": "code",
   "execution_count": null,
   "id": "565b9648-5c44-48fe-ad89-7159d6518f03",
   "metadata": {},
   "outputs": [],
   "source": []
  },
  {
   "cell_type": "code",
   "execution_count": null,
   "id": "9da88cd2-85fe-4c11-968c-a99b5cc8d15b",
   "metadata": {},
   "outputs": [],
   "source": []
  },
  {
   "cell_type": "code",
   "execution_count": null,
   "id": "db9827c0-c360-480f-9b62-e1e149a826d1",
   "metadata": {},
   "outputs": [],
   "source": []
  }
 ],
 "metadata": {
  "kernelspec": {
   "display_name": "SageMath 10.2",
   "language": "sage",
   "name": "sagemath"
  },
  "language_info": {
   "codemirror_mode": {
    "name": "ipython",
    "version": 3
   },
   "file_extension": ".py",
   "mimetype": "text/x-python",
   "name": "python",
   "nbconvert_exporter": "python",
   "pygments_lexer": "ipython3",
   "version": "3.11.1"
  }
 },
 "nbformat": 4,
 "nbformat_minor": 5
}
