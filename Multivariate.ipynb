{
 "cells": [
  {
   "cell_type": "markdown",
   "id": "2f0ed5cb-3071-4cf6-bdf6-ca834a012f8a",
   "metadata": {},
   "source": [
    "# Multivariate polynomial systems\n",
    "\n",
    "## 1.First manipulations and experiments\n",
    "\n",
    "In order to manipulate multivariate polynomials over a finite field, we can start by creating the associated polynomial ring. When the number of variables is small, we can directly specify their names. "
   ]
  },
  {
   "cell_type": "code",
   "execution_count": 1,
   "id": "47dd6818-bf4c-4868-8e93-ac87230ff42b",
   "metadata": {},
   "outputs": [],
   "source": [
    "R1.<x,y,z> = PolynomialRing(GF(7))\n",
    "print(R1)\n",
    "print((3*x+5*y)*(3*z+2*x+y)+(4*y+3*z)*(x+y+2*z))\n",
    "print(5*x+2*x)"
   ]
  },
  {
   "cell_type": "markdown",
   "id": "07bb8f87-376a-4981-b0f5-c83505cbd0ea",
   "metadata": {},
   "source": [
    "For larger numbers of variables, we specify a generic name, used only for printing outputs. The i-th variable of the ring `R` is called by the command `R.i` or `R.gen(i)`."
   ]
  },
  {
   "cell_type": "code",
   "execution_count": 2,
   "id": "0fbebfd9-804f-43d4-8eed-ea6ef115297b",
   "metadata": {},
   "outputs": [],
   "source": [
    "R=PolynomialRing(GF(7),30,'x')\n",
    "print(R)\n",
    "print(R.10*R.15+6*R.gen(28)*R.gen(7))\n",
    "print(R(10)) #caution\n",
    "print(x13) #error"
   ]
  },
  {
   "cell_type": "markdown",
   "id": "4b8b70fd-447b-4cd8-aa70-323c3c54e271",
   "metadata": {},
   "source": [
    "\n",
    "**Exercise:** \n",
    "- Generate a random system (list `L`) of 5 quadratic polynomials in 5 variables with coefficients in the finite field $\\mathbb F_7$. Try to compute its solutions with the command `ideal(L).variety()`.\n",
    "- Experiment with other systems. What happens when there are more equations than variables?\n",
    "- To circumvent this difficulty, append to the list `L`the \"field equations\" $x_i^p - x_i$. Check the results on various systems and various parameters.   "
   ]
  },
  {
   "cell_type": "code",
   "execution_count": null,
   "id": "9f71f86c-d234-4c51-ab0d-7b1c192ff3be",
   "metadata": {},
   "outputs": [],
   "source": []
  },
  {
   "cell_type": "code",
   "execution_count": null,
   "id": "973879ec-c145-4677-859c-62c88205afc7",
   "metadata": {},
   "outputs": [],
   "source": []
  },
  {
   "cell_type": "markdown",
   "id": "a758d064-abe2-410d-8268-51f1c2b3cd18",
   "metadata": {},
   "source": [
    "\n",
    "**Exercise (Boolean systems):** If $x\\in \\mathbb F_2$ then $x^k=x$ for all $k\\geq 1$. This implies that when trying to solve polynomial systems over $\\mathbb F_2$, we can replace every power $x_i^k$ of a variable by just $x_i$. This is implemented in Sagemath with `BooleanPolynomialRing`.\n",
    "- Create a Boolean polynomial ring in $n=12$ variables, and test the product of Boolean polynomials.\n",
    "- Create 100 systems of $m=12$ Boolean polynomials in 12 variables and solve them (command `ideal(L).variety()`). What is the average number of solutions?\n",
    "- Same question with $m=11$, $m=10$ (underdetermined systems), $m=13$, $m=14$ (overdetermined systems)."
   ]
  },
  {
   "cell_type": "code",
   "execution_count": null,
   "id": "0c12a5c3-bc9c-4151-9d9d-4c2aa2998079",
   "metadata": {},
   "outputs": [],
   "source": []
  },
  {
   "cell_type": "code",
   "execution_count": null,
   "id": "1dc136db-a3f2-4f89-8c85-d21b6dcdf982",
   "metadata": {},
   "outputs": [],
   "source": []
  },
  {
   "cell_type": "markdown",
   "id": "b7ae50ef-25e2-4dcf-b6cb-597597a5ccd7",
   "metadata": {},
   "source": [
    "\n",
    "**Exercise (extremely overdetermined systems):** \n",
    "- Generate a system of 300 quadratic polynomials in 23 variables with coefficients in $\\mathbb F_{97}$, having _at least one_ solution.\n",
    "- Explain why it is possible to find linear combinations of the equations that yield degree 1 polynomials.\n",
    "- Compute such linear polynomials by performing Gaussian elimination, and recover the solution of the system."
   ]
  },
  {
   "cell_type": "code",
   "execution_count": null,
   "id": "6fa6f366-fb2d-4177-aa3c-4af89fcadf03",
   "metadata": {},
   "outputs": [],
   "source": []
  },
  {
   "cell_type": "code",
   "execution_count": null,
   "id": "64abfe90-5ddb-44bc-9c52-3ccb716e0059",
   "metadata": {},
   "outputs": [],
   "source": []
  },
  {
   "cell_type": "code",
   "execution_count": null,
   "id": "aa77ca46-c794-41b2-9940-1f3ee6e92021",
   "metadata": {},
   "outputs": [],
   "source": []
  },
  {
   "cell_type": "markdown",
   "id": "f7740865-e7fb-49a5-b10b-adb1c6f0a82d",
   "metadata": {},
   "source": [
    "\n",
    "## 2. Oil and Vinegar\n",
    "\n",
    "**Preliminary:** \n",
    "- Construct a quadratic polynomial $f$ in $3$ variables $x,y,z$ over a field $K$. What is the output of the command $f(x,2,1)$? And $f(y,z,x)$?\n",
    "- Construct a square matrix $M\\in \\mathcal M_3(K)$ from the list of its coefficients with the command `M = matrix(K,3,3,[.....])` and test the command `M*vector([x,y,z])`.\n",
    "- Unpack the result of the last command using the star operator `*` and feed it to $f$. What is the result?"
   ]
  },
  {
   "cell_type": "code",
   "execution_count": null,
   "id": "34053f2c-3064-4d9e-9b17-327ae411b49d",
   "metadata": {},
   "outputs": [],
   "source": []
  },
  {
   "cell_type": "code",
   "execution_count": null,
   "id": "71bfe2a5-9c1d-4a92-891e-624c045751e0",
   "metadata": {},
   "outputs": [],
   "source": []
  },
  {
   "cell_type": "markdown",
   "id": "39b9e4ee-6ccf-474d-ab5c-c25fd2032a0f",
   "metadata": {},
   "source": [
    "**Exercise:**\n",
    "1. Generate a random (homogeneous) quadratic system $F$ of 20 equations in 40 variables over $\\mathbb F_{2}$, such that there are no monomials of the form $x_ix_j$ with $i \\geq 20$ and $j\\geq 20$."
   ]
  },
  {
   "cell_type": "code",
   "execution_count": null,
   "id": "714a3123-4af9-418f-ace1-544b7e2c9611",
   "metadata": {},
   "outputs": [],
   "source": []
  },
  {
   "cell_type": "markdown",
   "id": "40db5f65-7af8-4578-bc80-92a3b019d4c4",
   "metadata": {},
   "source": [
    "2. Generate a random 40x40 square matrix $S$ with coefficients in $\\mathbb F_2$ and test if it is invertible. If not, start again until finding an invertible one. This is your private key. "
   ]
  },
  {
   "cell_type": "code",
   "execution_count": null,
   "id": "13187cec-209d-4dce-a888-f2819864763f",
   "metadata": {},
   "outputs": [],
   "source": []
  },
  {
   "cell_type": "markdown",
   "id": "0510f94d-a0e7-4d1d-9170-e5131ffec803",
   "metadata": {},
   "source": [
    "3. Compute the system $P=F\\circ S$. This is your public key. What is its size? Is there a way to store it compactly?"
   ]
  },
  {
   "cell_type": "code",
   "execution_count": null,
   "id": "9d7ab0a0-347e-45b4-94f2-3e3e71a07289",
   "metadata": {},
   "outputs": [],
   "source": []
  },
  {
   "cell_type": "markdown",
   "id": "16f6d7e3-4c4b-472d-aeb0-1b80937fac8c",
   "metadata": {},
   "source": [
    "4. Pick a random tuple $y\\in \\mathbb F_2^{20}$ and compute an $x$ such that $P(x)=y$ using your private key. Check your result."
   ]
  },
  {
   "cell_type": "code",
   "execution_count": null,
   "id": "b29932ff-b8fd-4caf-bcac-f11dd61fc34a",
   "metadata": {},
   "outputs": [],
   "source": []
  },
  {
   "cell_type": "markdown",
   "id": "dc0c5f8a-3989-469c-937f-6d3179c8bfae",
   "metadata": {},
   "source": [
    "5. Try to solve directly the system $P(x)=y$."
   ]
  },
  {
   "cell_type": "code",
   "execution_count": null,
   "id": "08767547-53ac-4c89-b099-aad7be29c897",
   "metadata": {},
   "outputs": [],
   "source": []
  },
  {
   "cell_type": "markdown",
   "id": "7c35b092-569a-4d2a-8832-bbc04352c509",
   "metadata": {},
   "source": [
    "6. The trouble is that the system $P(x)=y$ is largely underdetermined and so has a lot of solutions, whereas we only need one. Try to solve the system by guessing the value of 20 variables (hint: the resolution is much faster if you cast the polynomials into a polynomial ring in the remaining 20 variables). "
   ]
  },
  {
   "cell_type": "code",
   "execution_count": null,
   "id": "61e9b0d6-2d74-4a31-b1aa-bde6760cdefd",
   "metadata": {},
   "outputs": [],
   "source": []
  },
  {
   "cell_type": "markdown",
   "id": "c251157f-7a8a-4ae0-9d85-efff19f1230c",
   "metadata": {},
   "source": [
    "7. Overdetermined systems are usually faster to solve than square systems. If we try to guess more than 20 variables, this speeds up the computation but deteriorates the probability of obtaining a solution, so that there is an optimal trade-off to be found.\\\n",
    "   Solve the system $P(x)=y$ by guessing repeatedly 25 variables until a solution is found. Is it faster than guessing 20 variables? Than guessing all 40 variables?"
   ]
  },
  {
   "cell_type": "code",
   "execution_count": null,
   "id": "b198f473-68b0-4bf7-95a9-bbc26ddf8096",
   "metadata": {},
   "outputs": [],
   "source": []
  },
  {
   "cell_type": "code",
   "execution_count": null,
   "id": "9d73016b-080a-4e8c-bc52-a34f49bc9b15",
   "metadata": {},
   "outputs": [],
   "source": []
  }
 ],
 "metadata": {
  "kernelspec": {
   "display_name": "SageMath 10.2",
   "language": "sage",
   "name": "sagemath"
  },
  "language_info": {
   "codemirror_mode": {
    "name": "ipython",
    "version": 3
   },
   "file_extension": ".py",
   "mimetype": "text/x-python",
   "name": "python",
   "nbconvert_exporter": "python",
   "pygments_lexer": "ipython3",
   "version": "3.11.1"
  }
 },
 "nbformat": 4,
 "nbformat_minor": 5
}
