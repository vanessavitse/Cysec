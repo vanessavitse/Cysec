{
 "cells": [
  {
   "cell_type": "markdown",
   "id": "4d7587cb-6554-4774-8529-e4fe4fcd5040",
   "metadata": {},
   "source": [
    "## Finite fields\n",
    "\n",
    "Prime finite fields (i.e. $\\mathbb{Z}/p\\mathbb{Z}$ with $p$ prime) are created with the command `GF(p)`. Casting an integer into a prime field can be done explicitly, but is usually implicit."
   ]
  },
  {
   "cell_type": "code",
   "execution_count": 82,
   "id": "f745c748-56dc-41db-b2cb-d0979daaa6a4",
   "metadata": {},
   "outputs": [],
   "source": [
    "K=GF(65537)\n",
    "K"
   ]
  },
  {
   "cell_type": "code",
   "execution_count": 83,
   "id": "f9ea7493-4f24-461b-a1e3-386abe3a4e02",
   "metadata": {},
   "outputs": [],
   "source": [
    "a=K(-11)\n",
    "print(a)\n",
    "print(a+25)\n",
    "print(a.lift_centered())"
   ]
  },
  {
   "cell_type": "markdown",
   "id": "bb180507-256e-491e-9094-bc9863ca8f98",
   "metadata": {},
   "source": [
    "Elements in a non-prime finite field $\\mathbb{F}_{p^d}$ are represented as polynomials of degree $<d$ modulo an irreducible degree $d$ polynomial $P$. This polynomial can be specified; otherwise Sagemath chooses one, and similarly for the name of the indeterminate."
   ]
  },
  {
   "cell_type": "code",
   "execution_count": 144,
   "id": "95cd422b-7fcf-4847-be88-acba34551325",
   "metadata": {},
   "outputs": [
    {
     "name": "stdout",
     "output_type": "stream",
     "text": [
      "Finite Field in z3 of size 5^3\n",
      "2*z3^2 + z3 + 2\n",
      "Finite Field in t of size 13^2\n",
      "t + 9\n"
     ]
    }
   ],
   "source": [
    "print(GF(125))\n",
    "print(GF(125).random_element())\n",
    "\n",
    "K.<t> = GF(169)\n",
    "print(K)\n",
    "print(K.random_element())"
   ]
  },
  {
   "cell_type": "markdown",
   "id": "7730ddb6-f796-4b71-9b7a-d29d1b3080bf",
   "metadata": {},
   "source": [
    "**Exercice :** \n",
    "- Find an element of multiplicative order $5$ in $(\\mathbb{Z}/101\\mathbb{Z})^*$\n",
    "- Find the irreducible polynomials used by Sagemath to define $\\mathbb{F}_{121}$ and $\\mathbb{F}_{125}$\n",
    "- The polynomial ring $K[X]$ over a field $K$ can be created by the command `PolynomialRing(K,'X')`. Check that the polynomial $P=X^5+2X^2+1$ is irreducible in $\\mathbb{F}_{101}[X]$, and use this polynomial to define $\\mathbb F_{101^5}$ as $\\mathbb F_{101}[X]/(P)$.\n",
    "- Find an irreducible polynomial $Q$ of degree 2 over $\\mathbb F_{25}$ and define $\\mathbb F_{625}$ as $\\mathbb F_{25}[X]/(Q)$."
   ]
  },
  {
   "cell_type": "code",
   "execution_count": null,
   "id": "19ec05fe-daa4-4666-8b1c-46ad46f86ddb",
   "metadata": {},
   "outputs": [],
   "source": []
  },
  {
   "cell_type": "code",
   "execution_count": null,
   "id": "5af5d27e-9406-4fd7-b5ed-626176141186",
   "metadata": {},
   "outputs": [],
   "source": []
  },
  {
   "cell_type": "code",
   "execution_count": null,
   "id": "69985bd1-f53a-4c22-a659-e04346022eb0",
   "metadata": {},
   "outputs": [],
   "source": []
  },
  {
   "cell_type": "code",
   "execution_count": null,
   "id": "80c5b6d6-bd90-4b0f-bfda-2383505b5d3f",
   "metadata": {},
   "outputs": [],
   "source": []
  },
  {
   "cell_type": "markdown",
   "id": "e355d12d-4ff3-492f-a974-0ecbd3d33e57",
   "metadata": {},
   "source": [
    "## Elliptic curves and pairings\n",
    "\n",
    "An elliptic curve defined over a field K by a short Weierstrass equation $y^2=x^3+ax+b$ can be created with the command `EllipticCurve(K,[a,b])`. Note that the quantity $4a^3+27b^2$ must be non-zero, otherwise the curve is singular (not an elliptic curve)."
   ]
  },
  {
   "cell_type": "markdown",
   "id": "8fb51c4a-5a8b-4985-8439-ff2476197783",
   "metadata": {},
   "source": [
    "**Exercice:** Let $E$ be the elliptic curve of equation $y^2 = x^3+x+25$ over $\\mathbb Z/107\\mathbb Z$. \n",
    "- What is the cardinality of $E$ ? \n",
    "- Pick two random points $P$ and $Q$ on $E$ and check that $P$, $Q$ and $-(P+Q)$ are aligned.\n",
    "- Find the discrete logarithm of $Q$ in base $P$.\n"
   ]
  },
  {
   "cell_type": "code",
   "execution_count": null,
   "id": "3a7cd761-5d3b-4d0e-8522-42aaa27f7cf3",
   "metadata": {},
   "outputs": [],
   "source": []
  },
  {
   "cell_type": "code",
   "execution_count": null,
   "id": "6b32fada-8cea-4ea3-9371-af0471e9a600",
   "metadata": {},
   "outputs": [],
   "source": []
  },
  {
   "cell_type": "code",
   "execution_count": null,
   "id": "49827450-01c6-45a8-83d7-f9fac8ab9c3b",
   "metadata": {},
   "outputs": [],
   "source": []
  },
  {
   "cell_type": "markdown",
   "id": "ae0319fe-ecf0-42f8-b03d-48cbcd54465c",
   "metadata": {},
   "source": [
    "**Exercice (continued):** \n",
    "- Show that the embedding degree of $E$ is equal to $3$.\n",
    "- Construct the field $\\mathbb F_{107^3}$ and use the command `change_ring` to consider the curve $E$ as defined over $\\mathbb F_{107^3}$.\n",
    "- What is the cardinality of $E(\\mathbb F_{107^3})$ ? Find a point $R \\in E$ of order $127$ that is not defined over $\\mathbb F_{107}$.\n",
    "- Compute the Weil pairing of $P$ and $Q$. You might have to cast $P$ as a point defined over $\\mathbb F_{107^3}$.\n",
    "- Check on several examples the bilinearity and antisymmetry of the Weil pairing.\n",
    "- Are there other pairings you can compute ?"
   ]
  },
  {
   "cell_type": "code",
   "execution_count": null,
   "id": "fa59f03d-d4b3-4003-bd78-e3389e45477e",
   "metadata": {},
   "outputs": [],
   "source": []
  },
  {
   "cell_type": "code",
   "execution_count": null,
   "id": "4115e647-9529-42b2-813b-d1ec3d837d05",
   "metadata": {},
   "outputs": [],
   "source": []
  },
  {
   "cell_type": "code",
   "execution_count": null,
   "id": "a139c7ad-f5de-4951-ba7f-e89e60923284",
   "metadata": {},
   "outputs": [],
   "source": []
  },
  {
   "cell_type": "code",
   "execution_count": null,
   "id": "ecd31070-796a-4598-9ea3-8e114eff628f",
   "metadata": {},
   "outputs": [],
   "source": []
  },
  {
   "cell_type": "markdown",
   "id": "b4b7faf6-3e53-42c4-9a63-1c6e60e34f03",
   "metadata": {},
   "source": [
    "**Exercice : constructing small pairing-friendly curves**\n",
    "\n",
    "In this exercice we are looking for curves $E$ defined over a small prime field $\\mathbb F_p$ such that $\\#E$ is prime and the embedding degree of $E$ is small ($\\leq 6$). \n",
    "We will use the following fact (Hasse's bound): $$p+1-2\\sqrt{p} \\leq \\#E \\leq p+1+2\\sqrt{p}$$\n",
    "- Apply exhaustive search to find all couples of distinct primes $(p,\\ell)$ with $p \\in [1000,10000]$ such that $\\ell$ is within Hasse's bound and the multiplicative order $d$ of $p$ mod $\\ell$ is smaller than or equal to $6$ (you can use the function `n.next_prime()` to return the smallest prime strictly greater than `n`).\n",
    "- Are pairing-friendly curves rather common or rare?\n",
    "- Choose one such couple $(p,\\ell)$ satisfying $d=6$. By exhaustive search again, find an elliptic curve $E$ defined over $\\mathbb F_p$ having exactly $\\ell$ points."
   ]
  },
  {
   "cell_type": "code",
   "execution_count": null,
   "id": "29467547-fd93-4967-9ff4-dc4f3533fb25",
   "metadata": {},
   "outputs": [],
   "source": []
  },
  {
   "cell_type": "code",
   "execution_count": null,
   "id": "feb4b777-dadf-43d0-8887-f31515f3b2dc",
   "metadata": {},
   "outputs": [],
   "source": []
  },
  {
   "cell_type": "code",
   "execution_count": null,
   "id": "b8061a38-7315-41fd-b6fb-e3db6ea187f2",
   "metadata": {},
   "outputs": [],
   "source": []
  },
  {
   "cell_type": "markdown",
   "id": "898a5e69-4af4-4db0-9cac-f8501bcfde90",
   "metadata": {},
   "source": [
    "**Exercice (continued):**\n",
    "\n",
    "Let $E$ be the elliptic curve of embedding degree $6$ constructed above. One can show that for any $x\\in \\mathbb F_{p^3}$, the equation $y^2 = x^3+ax+b$ has a solution $y$ that lies either in $\\mathbb F_{p^3}$ or in $\\mathbb F_{p^6}$. \n",
    "\n",
    "- Pick a random $x\\in \\mathbb F_{p^3}$ until the corresponding value of $y$ lies in $\\mathbb F_{p^6}\\setminus \\mathbb F_{p^3}$. We recall that an element $y$ is in $\\mathbb F_{p^3}$ if and only if $y^{p^3}=y$.\n",
    "- Construct the corresponding point $Q\\in E(\\mathbb F_{p^6})$. Compute several multiples of $Q$ and check that their $x$-coordinates belong to $\\mathbb F_{p^3}$. Explain this property.\n",
    "- Find two points $P_0, P_1$ that generate $E(\\mathbb F_{p^6})[\\ell]$ such that $P_0 \\in E(\\mathbb F_p)$ and $x(P_1) \\in \\mathbb F_{p^3}$. Why is such a basis interesting?"
   ]
  },
  {
   "cell_type": "code",
   "execution_count": null,
   "id": "e2f65a71-79a5-4d18-aacd-fa52c6349eab",
   "metadata": {},
   "outputs": [],
   "source": []
  },
  {
   "cell_type": "code",
   "execution_count": null,
   "id": "54e2c1a6-7baf-48ef-b1f9-d5f2660265ea",
   "metadata": {},
   "outputs": [],
   "source": []
  },
  {
   "cell_type": "code",
   "execution_count": null,
   "id": "969acbd3-4aba-474f-ba28-027ede9cd259",
   "metadata": {},
   "outputs": [],
   "source": []
  },
  {
   "cell_type": "markdown",
   "id": "6a193930-28c2-40ca-bd93-90434a80e33c",
   "metadata": {},
   "source": [
    "**Exercice: Barreto-Naehrig curves**\n",
    "\n",
    "The following code snippet constructs elliptic curves of prime order of a given size with an embedding degree of 12, with the command `E=BN.generate_prime_order(size)`.\n",
    "- Construct a BN curve of size 100 bits. Check that its embedding degree is indeed 12 (the command `E.base_ring()` allows to recover the field of definition).\n",
    "- Try to construct BN curves of larger size. What do you observe?\n",
    "- Uncomment the third line of the method `generate_prime_order` (so that everybody gets the same curve), and run `E=BN.generate_prime_order(100)`. In order to compute pairings on this curve, we need the corresponding field $\\mathbb F_{p^{12}}$; construct it with the following piece of code:\\\n",
    "`p=E.base_ring().cardinality()`\\\n",
    "`A.<x>=PolynomialRing(GF(p))`\\\n",
    "`K12.<t>=GF(p^12,modulus=x^12 + x^11 + x^10 + x^9 + x^8 + x^7 + x^6 + x^5 + x^4 + x^3 + x^2 + x + 1)`\n",
    "- Time the computation of the Weil pairing of two points in $E(\\mathbb F_{p^{12}})$ whose order is $\\ell = \\#E(\\mathbb F_p)$. Is it fast?\n",
    "- Pick a random prime number of $\\approx$ 100 bits and choose random elliptic curves over the corresponding prime field until one is found with a large prime factor. Compute its embedding degree. What do you observe?"
   ]
  },
  {
   "cell_type": "code",
   "execution_count": 19,
   "id": "4b6b5ee3-8798-43fc-87cf-dbec70091e63",
   "metadata": {},
   "outputs": [],
   "source": [
    "class BN(object):\n",
    "    @staticmethod\n",
    "    def generate_prime_order(zbits):\n",
    "        while True:\n",
    "            z = randint(2^(zbits - 1), 2^zbits)\n",
    "            #z = 1056017018967232695326726523462\n",
    "            pz = int(BN.p(z))\n",
    "            if not is_prime(pz):\n",
    "                continue\n",
    "            rz = int(BN.r(z))\n",
    "            if not is_prime(rz):\n",
    "                continue\n",
    "            break\n",
    "        K = GF(pz)\n",
    "        b = 1\n",
    "        while True:\n",
    "            curve = EllipticCurve(K, [0, b])\n",
    "            card = curve.cardinality()\n",
    "            if card % rz == 0:\n",
    "                break\n",
    "            b += 1\n",
    "        return curve\n",
    "\n",
    "    @staticmethod\n",
    "    def p(z):\n",
    "        return 36 * z^4 + 36 * z^3 + 24 * z^2 + 6 * z + 1\n",
    "    @staticmethod\n",
    "    def r(z):\n",
    "        return 36 * z^4 + 36 * z^3 + 18 * z^2 + 6 * z + 1\n",
    "    @staticmethod\n",
    "    def t(z):\n",
    "        return 6 * z^2 + 1"
   ]
  },
  {
   "cell_type": "code",
   "execution_count": null,
   "id": "38401cef-dba0-428f-84f0-8fc30cf2efc5",
   "metadata": {},
   "outputs": [],
   "source": []
  },
  {
   "cell_type": "code",
   "execution_count": null,
   "id": "f99d1426-913c-422e-b7c5-40366b435f0b",
   "metadata": {},
   "outputs": [],
   "source": []
  },
  {
   "cell_type": "code",
   "execution_count": null,
   "id": "1e9539d3-9234-4b75-8693-b40bbae1167e",
   "metadata": {},
   "outputs": [],
   "source": []
  },
  {
   "cell_type": "code",
   "execution_count": null,
   "id": "a8edf085-7ec8-49c9-85ad-2bda9fb6864d",
   "metadata": {},
   "outputs": [],
   "source": []
  },
  {
   "cell_type": "code",
   "execution_count": null,
   "id": "2410c860-1084-4a0d-9c65-43ce93cbb562",
   "metadata": {},
   "outputs": [],
   "source": []
  },
  {
   "cell_type": "code",
   "execution_count": null,
   "id": "dbdfd9da-6207-4f23-9f0a-a6909fbd192d",
   "metadata": {},
   "outputs": [],
   "source": []
  },
  {
   "cell_type": "code",
   "execution_count": null,
   "id": "38dac517-053a-4d0e-82e7-dfe46862e98d",
   "metadata": {},
   "outputs": [],
   "source": []
  }
 ],
 "metadata": {
  "kernelspec": {
   "display_name": "SageMath 10.2",
   "language": "sage",
   "name": "sagemath"
  },
  "language_info": {
   "codemirror_mode": {
    "name": "ipython",
    "version": 3
   },
   "file_extension": ".py",
   "mimetype": "text/x-python",
   "name": "python",
   "nbconvert_exporter": "python",
   "pygments_lexer": "ipython3",
   "version": "3.11.1"
  }
 },
 "nbformat": 4,
 "nbformat_minor": 5
}
